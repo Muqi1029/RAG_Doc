{
 "cells": [
  {
   "cell_type": "code",
   "execution_count": 1,
   "metadata": {},
   "outputs": [],
   "source": [
    "import json"
   ]
  },
  {
   "cell_type": "code",
   "execution_count": 2,
   "metadata": {},
   "outputs": [],
   "source": [
    "def read_json(file):\n",
    "    with open(file, 'r') as f:\n",
    "        data = json.load(f)\n",
    "    return data"
   ]
  },
  {
   "cell_type": "markdown",
   "metadata": {},
   "source": [
    "### Document"
   ]
  },
  {
   "cell_type": "code",
   "execution_count": 3,
   "metadata": {},
   "outputs": [
    {
     "data": {
      "text/plain": [
       "26599"
      ]
     },
     "execution_count": 3,
     "metadata": {},
     "output_type": "execute_result"
    }
   ],
   "source": [
    "filename = \"./input/document.json\"\n",
    "document = read_json(filename)\n",
    "len(document)"
   ]
  },
  {
   "cell_type": "code",
   "execution_count": 7,
   "metadata": {},
   "outputs": [
    {
     "name": "stdout",
     "output_type": "stream",
     "text": [
      "title_input_list\t=> 16 dimensions\n",
      "title_embedding\t=> 1024 dimensions\n",
      "fact_input_list\t=> 90 dimensions\n",
      "facts_embedding\t=> 1024 dimensions\n",
      "source\t=> Mashable\n",
      "category\t=> entertainment\n",
      "published_at\t=> 2023-11-27T08:45:59+00:00\n"
     ]
    }
   ],
   "source": [
    "for k, v in document[0].items():\n",
    "    if type(v) is list:\n",
    "        print(f\"{k}\\t=> {len(v)} dimensions\")\n",
    "    else:\n",
    "        print(f\"{k}\\t=> {v}\")"
   ]
  },
  {
   "cell_type": "markdown",
   "metadata": {},
   "source": [
    "- title_input_list: 标题 经过分词后得到的 token IDs\n",
    "- title_embedding: 标题 embedding向量，大小为(N,)，N为embedding的维度\n",
    "- fact_input_list: 文档 经过分词后得到的 token IDs\n",
    "- fact_embedding: 文档 embedding向量，大小为(N,)，N为embedding的维度\n",
    "- source： 数据来源\n",
    "- category: 数据类型\n",
    "- published_at: 发布时间"
   ]
  },
  {
   "cell_type": "code",
   "execution_count": null,
   "metadata": {},
   "outputs": [],
   "source": []
  },
  {
   "cell_type": "markdown",
   "metadata": {},
   "source": [
    "### Query TrainSet"
   ]
  },
  {
   "cell_type": "code",
   "execution_count": 8,
   "metadata": {},
   "outputs": [
    {
     "data": {
      "text/plain": [
       "2044"
      ]
     },
     "execution_count": 8,
     "metadata": {},
     "output_type": "execute_result"
    }
   ],
   "source": [
    "filename = \"./input/query_trainset.json\"\n",
    "query_train_set = read_json(filename)\n",
    "len(query_train_set)"
   ]
  },
  {
   "cell_type": "code",
   "execution_count": 9,
   "metadata": {},
   "outputs": [
    {
     "name": "stdout",
     "output_type": "stream",
     "text": [
      "query_input_list\t=> 61\n",
      "query_embedding\t=> 1024\n",
      "evidence_list\t=> 2\n"
     ]
    }
   ],
   "source": [
    "for k, v in query_train_set[0].items():\n",
    "    print(f\"{k}\\t=> {len(v)}\")"
   ]
  },
  {
   "cell_type": "code",
   "execution_count": 11,
   "metadata": {},
   "outputs": [
    {
     "name": "stdout",
     "output_type": "stream",
     "text": [
      "[2, 0, 4, 2, 2, 0, 2, 2, 0, 2]\n"
     ]
    }
   ],
   "source": [
    "results = []\n",
    "for i in range(10):\n",
    "    results.append(len(query_train_set[i][\"evidence_list\"]))\n",
    "print(results)"
   ]
  },
  {
   "cell_type": "markdown",
   "metadata": {},
   "source": [
    "- query_input_list: 问题 经过分词后得到的 token ID\n",
    "- query_embedding: 问题 embedding向量，大小为(N,)，N为embedding的维度\n",
    "- evidence_list： \n",
    "  - fact_input_list: 文档 经过分词后得到的 token IDs\n",
    "  - fact_embedding: 文档 embedding向量\n",
    "  - $\\dots$"
   ]
  },
  {
   "cell_type": "code",
   "execution_count": 9,
   "metadata": {},
   "outputs": [
    {
     "name": "stdout",
     "output_type": "stream",
     "text": [
      "------------------- evidence 0 -------------------\n",
      "fact_input_list\t=> 35\n",
      "fact_embedding\t=> 1024\n",
      "\n",
      "------------------- evidence 1 -------------------\n",
      "fact_input_list\t=> 49\n",
      "fact_embedding\t=> 1024\n",
      "\n"
     ]
    }
   ],
   "source": [
    "# evidence list\n",
    "for i, evidence in enumerate(query_train_set[0]['evidence_list']):\n",
    "    print(f' evidence {i} '.center(50, \"-\"))\n",
    "    for k, v in evidence.items():\n",
    "        print(f\"{k}\\t=> {len(v)}\")\n",
    "    print()"
   ]
  },
  {
   "cell_type": "code",
   "execution_count": null,
   "metadata": {},
   "outputs": [],
   "source": []
  },
  {
   "cell_type": "code",
   "execution_count": null,
   "metadata": {},
   "outputs": [],
   "source": []
  }
 ],
 "metadata": {
  "kernelspec": {
   "display_name": "base",
   "language": "python",
   "name": "python3"
  },
  "language_info": {
   "codemirror_mode": {
    "name": "ipython",
    "version": 3
   },
   "file_extension": ".py",
   "mimetype": "text/x-python",
   "name": "python",
   "nbconvert_exporter": "python",
   "pygments_lexer": "ipython3",
   "version": "3.1.-1"
  }
 },
 "nbformat": 4,
 "nbformat_minor": 2
}
