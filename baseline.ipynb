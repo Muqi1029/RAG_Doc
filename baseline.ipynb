{
 "cells": [
  {
   "cell_type": "code",
   "execution_count": 1,
   "id": "initial_id",
   "metadata": {
    "collapsed": true
   },
   "outputs": [
    {
     "data": {
      "text/plain": [
       "'using device cpu'"
      ]
     },
     "execution_count": 1,
     "metadata": {},
     "output_type": "execute_result"
    }
   ],
   "source": [
    "import torch\n",
    "import tqdm\n",
    "import numpy as np\n",
    "import json\n",
    "import os\n",
    "device = torch.device('cuda:6' if torch.cuda.is_available() else 'cpu')\n",
    "f\"using device {device}\""
   ]
  },
  {
   "cell_type": "code",
   "execution_count": 2,
   "id": "486831b6e506cf85",
   "metadata": {
    "collapsed": false
   },
   "outputs": [],
   "source": [
    "def read_json(file_path):\n",
    "    ''' 读取 json 文件 '''\n",
    "    with open(file_path, 'r') as file:\n",
    "        data = json.load(file)\n",
    "    return data"
   ]
  },
  {
   "cell_type": "code",
   "execution_count": 3,
   "id": "1515927e6ecde90d",
   "metadata": {
    "collapsed": false
   },
   "outputs": [],
   "source": [
    "def write_json(data, path):\n",
    "    ''' 写入 json 文件 '''\n",
    "    with open(path, \"w\", encoding=\"utf-8\") as f:\n",
    "        json.dump(data, f, ensure_ascii=False)"
   ]
  },
  {
   "cell_type": "code",
   "execution_count": 4,
   "id": "9561b60de0b9925f",
   "metadata": {
    "collapsed": false
   },
   "outputs": [],
   "source": [
    "def retrieve_top_k_documents(query_embedding, document_embeddings, k=3):\n",
    "    \"\"\"\n",
    "    从所有document embeddings中检索出与query embedding最相关的前k个document。\n",
    "    Args:\n",
    "        query_embedding: Query的embedding向量，大小为(N,)，N为embedding的维度。\n",
    "        document_embeddings: Document的embedding向量列表，每个向量的大小为(N,)，N为embedding的维度。\n",
    "        k: 要检索的top k个document。\n",
    "    Returns:\n",
    "        top_documents: 一个列表，包含与query最相关的前k个document的索引。\n",
    "    \"\"\"\n",
    "    similarities = torch.nn.functional.cosine_similarity(query_embedding.unsqueeze(0), document_embeddings, dim=-1)\n",
    "    # 使用topk获取排序后的索引，然后选择前k个最大的相似度值对应的document索引\n",
    "    _, top_document_indices = similarities.topk(k)\n",
    "    return top_document_indices.tolist()"
   ]
  },
  {
   "cell_type": "code",
   "execution_count": 7,
   "id": "10b94ed0df5997cc",
   "metadata": {
    "collapsed": false
   },
   "outputs": [],
   "source": [
    "def zip_fun():\n",
    "    path=os.getcwd()\n",
    "    newpath=path+\"/output/\"\n",
    "    os.chdir(newpath)\n",
    "    os.system('zip prediction.zip result.json')\n",
    "    os.chdir(path)"
   ]
  },
  {
   "cell_type": "code",
   "execution_count": 9,
   "id": "8c64e2f1",
   "metadata": {},
   "outputs": [
    {
     "name": "stdout",
     "output_type": "stream",
     "text": [
      "  adding: result.json (deflated 78%)\n"
     ]
    }
   ],
   "source": [
    "zip_fun()"
   ]
  },
  {
   "cell_type": "code",
   "execution_count": 7,
   "id": "57c49197378e31d1",
   "metadata": {
    "collapsed": false
   },
   "outputs": [],
   "source": [
    "# 读取query_testset文件（512条）\n",
    "query = read_json('input/query_testset.json')\n",
    "query_embeddings = torch.tensor([entry['query_embedding'] for entry in query], device=device)"
   ]
  },
  {
   "cell_type": "code",
   "execution_count": 8,
   "id": "73e1d066a34af249",
   "metadata": {
    "collapsed": false
   },
   "outputs": [],
   "source": [
    "# 读取检索fact（26599条）\n",
    "document = read_json('input/document.json')\n",
    "document_embeddings = torch.tensor([entry['facts_embedding'] for entry in document], device=device)"
   ]
  },
  {
   "cell_type": "code",
   "execution_count": 10,
   "id": "71a67d9a729597fe",
   "metadata": {
    "collapsed": false
   },
   "outputs": [
    {
     "name": "stderr",
     "output_type": "stream",
     "text": [
      "100%|██████████| 512/512 [00:52<00:00,  9.75it/s]\n"
     ]
    }
   ],
   "source": [
    "results = []\n",
    "\n",
    "for item in tqdm.tqdm(query):\n",
    "    result = {}\n",
    "    query_embedding = torch.tensor(item['query_embedding'], device=device)\n",
    "    top_document_indices = retrieve_top_k_documents(query_embedding, document_embeddings, k=3)\n",
    "    result['query_input_list'] = item['query_input_list']\n",
    "    result['evidence_list'] = [{'fact_input_list': document[index]['fact_input_list']} for index in top_document_indices]\n",
    "    results.append(result)"
   ]
  },
  {
   "cell_type": "code",
   "execution_count": 11,
   "id": "1440186a467ea8ba",
   "metadata": {
    "collapsed": false
   },
   "outputs": [
    {
     "name": "stdout",
     "output_type": "stream",
     "text": [
      "write to output/result.json successful\n",
      "updating: result.json (deflated 73%)\n"
     ]
    }
   ],
   "source": [
    "write_json(results, 'output/result.json')\n",
    "print('write to output/result.json successful')\n",
    "zip_fun()\n"
   ]
  },
  {
   "cell_type": "code",
   "execution_count": null,
   "id": "87806b76",
   "metadata": {},
   "outputs": [],
   "source": [
    "zip_fun()"
   ]
  }
 ],
 "metadata": {
  "kernelspec": {
   "display_name": "Python 3",
   "language": "python",
   "name": "python3"
  },
  "language_info": {
   "codemirror_mode": {
    "name": "ipython",
    "version": 3
   },
   "file_extension": ".py",
   "mimetype": "text/x-python",
   "name": "python",
   "nbconvert_exporter": "python",
   "pygments_lexer": "ipython3",
   "version": "3.11.7"
  }
 },
 "nbformat": 4,
 "nbformat_minor": 5
}
